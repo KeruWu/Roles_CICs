{
 "cells": [
  {
   "cell_type": "markdown",
   "id": "280643d3-2168-4918-895a-871b2f908244",
   "metadata": {},
   "source": [
    "## Accuracy"
   ]
  },
  {
   "cell_type": "code",
   "execution_count": 1,
   "id": "c98017e3-4f7a-4de9-a47c-aca740bd42cd",
   "metadata": {},
   "outputs": [
    {
     "name": "stdout",
     "output_type": "stream",
     "text": [
      "ERM:                                     src_acc 0.896 (0.010)\n",
      "                                         tar_acc 0.561 (0.120)\n",
      "\n",
      "ERM_Pool:                                src_acc 0.883 (0.023)\n",
      "                                         tar_acc 0.544 (0.102)\n",
      "\n",
      "Tar:                                     src_acc 0.706 (0.138)\n",
      "                                         tar_acc 0.890 (0.007)\n",
      "\n",
      "DIP_mean:                                src_acc 0.883 (0.010)\n",
      "                                         tar_acc 0.876 (0.015)\n",
      "\n",
      "DIP_MMD:                                 src_acc 0.874 (0.017)\n",
      "                                         tar_acc 0.866 (0.022)\n",
      "\n",
      "DIP_Pool_mean:                           src_acc 0.867 (0.028)\n",
      "                                         tar_acc 0.864 (0.022)\n",
      "\n",
      "DIP_Pool_MMD:                            src_acc 0.856 (0.036)\n",
      "                                         tar_acc 0.855 (0.031)\n",
      "\n",
      "CIP_mean:                                src_acc 0.874 (0.033)\n",
      "                                         tar_acc 0.559 (0.120)\n",
      "\n",
      "CIP_MMD:                                 src_acc 0.865 (0.032)\n",
      "                                         tar_acc 0.604 (0.147)\n",
      "\n",
      "IW-ERM:                                  src_acc 0.548 (0.116)\n",
      "                                         tar_acc 0.524 (0.104)\n",
      "\n",
      "IW-CIP_mean:                             src_acc 0.537 (0.099)\n",
      "                                         tar_acc 0.540 (0.118)\n",
      "\n",
      "IW-CIP_MMD:                              src_acc 0.576 (0.150)\n",
      "                                         tar_acc 0.568 (0.136)\n",
      "\n",
      "IW-DIP_mean:                             src_acc 0.562 (0.128)\n",
      "                                         tar_acc 0.543 (0.117)\n",
      "\n",
      "IW-DIP_MMD:                              src_acc 0.692 (0.199)\n",
      "                                         tar_acc 0.680 (0.194)\n",
      "\n",
      "JointDIP:                                src_acc 0.871 (0.013)\n",
      "                                         tar_acc 0.868 (0.019)\n",
      "\n",
      "IW-JointDIP:                             src_acc 0.684 (0.191)\n",
      "                                         tar_acc 0.680 (0.194)\n",
      "\n",
      "IRM:                                     src_acc 0.876 (0.022)\n",
      "                                         tar_acc 0.567 (0.104)\n",
      "\n",
      "VREx:                                    src_acc 0.873 (0.025)\n",
      "                                         tar_acc 0.556 (0.115)\n",
      "\n",
      "groupDRO:                                src_acc 0.883 (0.023)\n",
      "                                         tar_acc 0.544 (0.100)\n",
      "\n"
     ]
    }
   ],
   "source": [
    "import numpy as np\n",
    "import torch\n",
    "import sys\n",
    "sys.path.append(\"..\")\n",
    "from collections import defaultdict\n",
    "from src.config import dataset_defaults\n",
    "\n",
    "## change exp for accuracies on other datasets\n",
    "exp = 'SCM_1'\n",
    "\n",
    "config = dataset_defaults[exp]\n",
    "algs = config['algs']\n",
    "seeds = range(1,11)\n",
    "\n",
    "\n",
    "train_acc = defaultdict(list)\n",
    "test_acc = defaultdict(list)\n",
    "for seed in seeds:\n",
    "    try:\n",
    "        result = np.load(f'../results/{exp}_seed{seed}_.npy', allow_pickle=True)\n",
    "        for k, alg in enumerate(algs):\n",
    "            if alg in config and 'srcId' in config[alg]:\n",
    "                train_acc[alg].append(result[k][config[alg]['srcId'][0]].item())\n",
    "            else:\n",
    "                train_acc[alg].append(result[k][-1].item())\n",
    "            test_acc[alg].append(result[k][-2].item())\n",
    "    except:\n",
    "        continue\n",
    "        \n",
    "for alg in algs:\n",
    "    src = np.array(train_acc[alg])\n",
    "    tar = np.array(test_acc[alg])\n",
    "    print(f\"{alg+':':40} src_acc {src.mean():.3f} ({src.std():.3f})\")\n",
    "    print(f\"{'':40} tar_acc {tar.mean():.3f} ({tar.std():.3f})\\n\")"
   ]
  },
  {
   "cell_type": "code",
   "execution_count": null,
   "id": "97ca37c7-a2cf-408f-b802-dc49ef7ca38d",
   "metadata": {},
   "outputs": [],
   "source": []
  }
 ],
 "metadata": {
  "kernelspec": {
   "display_name": "Python 3 (ipykernel)",
   "language": "python",
   "name": "python3"
  },
  "language_info": {
   "codemirror_mode": {
    "name": "ipython",
    "version": 3
   },
   "file_extension": ".py",
   "mimetype": "text/x-python",
   "name": "python",
   "nbconvert_exporter": "python",
   "pygments_lexer": "ipython3",
   "version": "3.7.6"
  }
 },
 "nbformat": 4,
 "nbformat_minor": 5
}
