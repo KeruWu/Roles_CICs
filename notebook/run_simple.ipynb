{
 "cells": [
  {
   "cell_type": "code",
   "execution_count": 1,
   "id": "f52d9b39-6430-4c02-ae9e-89ecdb6a7857",
   "metadata": {},
   "outputs": [],
   "source": [
    "import sys\n",
    "import torch\n",
    "import numpy as np\n",
    "sys.path.append(\"..\")\n",
    "from src import mdata, mmodel, method\n",
    "device = 'cuda' if torch.cuda.is_available() else 'cpu'"
   ]
  },
  {
   "cell_type": "markdown",
   "id": "e3e08b6e-9024-45c8-968f-570f80200562",
   "metadata": {},
   "source": [
    "### Define Dataloader\n",
    "\n",
    "Here we generate data from SCM III in the paper, where label-flipping features exist."
   ]
  },
  {
   "cell_type": "code",
   "execution_count": 2,
   "id": "22fbec0c-0f24-4e55-8d9d-ff477953f2ef",
   "metadata": {},
   "outputs": [],
   "source": [
    "seed = 0\n",
    "torch.manual_seed(seed)\n",
    "np.random.seed(seed)\n",
    "\n",
    "M = 12\n",
    "n = 1000\n",
    "d = 18\n",
    "nb_classes = 2\n",
    "\n",
    "# simulate SEM data. The last dataloader is target\n",
    "\n",
    "dataloaders = mdata.simu.SCM_3(M=M, n=n, d=d)"
   ]
  },
  {
   "cell_type": "markdown",
   "id": "0f9df51a-e0e5-4aa2-8048-c496b0fff7d0",
   "metadata": {},
   "source": [
    "### Define model"
   ]
  },
  {
   "cell_type": "code",
   "execution_count": 3,
   "id": "22c08f60-1e56-4137-8553-4af675fb68a7",
   "metadata": {},
   "outputs": [],
   "source": [
    "# simple linear model\n",
    "model=mmodel.Linear(d, nb_classes).to(device)"
   ]
  },
  {
   "cell_type": "markdown",
   "id": "a3bf0a72-7502-4542-a34a-a19766091f26",
   "metadata": {},
   "source": [
    "### CIP"
   ]
  },
  {
   "cell_type": "code",
   "execution_count": 4,
   "id": "07046a64-a01e-48f7-9591-a36f0339b7c7",
   "metadata": {},
   "outputs": [
    {
     "name": "stderr",
     "output_type": "stream",
     "text": [
      "Epoch 9: 100%|██████████| 10/10 [00:00<00:00, 10.54it/s, epoch_loss=0.42732008]\n",
      "Epoch 19: 100%|██████████| 10/10 [00:00<00:00, 10.77it/s, epoch_loss=0.42399898]\n",
      "Epoch 29: 100%|██████████| 10/10 [00:00<00:00, 12.30it/s, epoch_loss=0.42386653]\n",
      "Epoch 39: 100%|██████████| 10/10 [00:01<00:00,  9.23it/s, epoch_loss=0.42381443]\n",
      "Epoch 49: 100%|██████████| 10/10 [00:01<00:00,  9.43it/s, epoch_loss=0.42378902]\n"
     ]
    }
   ],
   "source": [
    "alg = method.CIP(device=device, model=model,\n",
    "                  lamCIP=1., discrepType='mean', nb_classes=2, \n",
    "                  loss_type='CrossEntropyLoss', optimizer='Adam', lr=1e-2)\n",
    "result = alg.fit(\n",
    "    dataloaders=dataloaders[:-1],  # CIP uses only source domains\n",
    "    grouper=None,                  # set grouper only for WILD dataset (e.g. camelyon)\n",
    "    tarId=None,                    # index of target domain. Default to -1\n",
    "    epochs=50,            \n",
    "    verbose_every=10\n",
    ")"
   ]
  },
  {
   "cell_type": "code",
   "execution_count": 5,
   "id": "25643535-efee-4578-88fd-7a700336a537",
   "metadata": {},
   "outputs": [
    {
     "name": "stdout",
     "output_type": "stream",
     "text": [
      "CIP results\n",
      "Source domain  1 accuracy: 84.00%\n",
      "Source domain  2 accuracy: 83.10%\n",
      "Source domain  3 accuracy: 85.30%\n",
      "Source domain  4 accuracy: 83.70%\n",
      "Source domain  5 accuracy: 82.00%\n",
      "Source domain  6 accuracy: 84.30%\n",
      "Source domain  7 accuracy: 83.40%\n",
      "Source domain  8 accuracy: 84.20%\n",
      "Source domain  9 accuracy: 81.00%\n",
      "Source domain 10 accuracy: 83.60%\n",
      "Source domain 11 accuracy: 83.50%\n",
      "Target domain    accuracy: 81.90%\n"
     ]
    }
   ],
   "source": [
    "print(\"CIP results\")\n",
    "for i in range(M):\n",
    "    ypreds, acc, correct = alg.predict_dataloader(dataloaders[i])\n",
    "    print(f\"{'Source' if i<M-1 else 'Target'} domain {i+1 if i<M-1 else '':>2} accuracy: {acc*100:.2f}%\")"
   ]
  },
  {
   "cell_type": "markdown",
   "id": "695003a8-adc6-4dcb-996e-f73c1cf69ba5",
   "metadata": {},
   "source": [
    "CIP achieves reasonable accuracy."
   ]
  },
  {
   "cell_type": "markdown",
   "id": "0dedba09-b258-4997-9583-248054d04ff8",
   "metadata": {},
   "source": [
    "### DIP"
   ]
  },
  {
   "cell_type": "code",
   "execution_count": 6,
   "id": "43786447-960f-4b5a-b06e-f220e0fd682b",
   "metadata": {},
   "outputs": [
    {
     "name": "stderr",
     "output_type": "stream",
     "text": [
      "Epoch 9: 100%|██████████| 10/10 [00:00<00:00, 131.91it/s, epoch_loss=0.14145027]\n",
      "Epoch 19: 100%|██████████| 10/10 [00:00<00:00, 157.21it/s, epoch_loss=0.08715069]\n",
      "Epoch 29: 100%|██████████| 10/10 [00:00<00:00, 165.18it/s, epoch_loss=0.06564525]\n",
      "Epoch 39: 100%|██████████| 10/10 [00:00<00:00, 270.69it/s, epoch_loss=0.05497827]\n",
      "Epoch 49: 100%|██████████| 10/10 [00:00<00:00, 276.86it/s, epoch_loss=0.04896626]\n"
     ]
    }
   ],
   "source": [
    "model=mmodel.Linear(d, nb_classes).to(device)\n",
    "alg = method.DIP(device=device, model=model,\n",
    "                 lamDIP=1., discrepType='mean', nb_classes=2, \n",
    "                 loss_type='CrossEntropyLoss', optimizer='Adam', lr=1e-2)\n",
    "result = alg.fit(\n",
    "    dataloaders=[dataloaders[0], dataloaders[-1]],  # DIP uses one source domain and one target domain\n",
    "                                                    # Can provide more for DIP-Pool, e.g. [dataloaders[0], dataloaders[1], dataloaders[-1]]\n",
    "    grouper=None,                  \n",
    "    tarId=None,\n",
    "    epochs=50,            \n",
    "    verbose_every=10\n",
    ")"
   ]
  },
  {
   "cell_type": "code",
   "execution_count": 7,
   "id": "4f0e03e8-99df-4e46-ac1a-3e3d2450a68b",
   "metadata": {},
   "outputs": [
    {
     "name": "stdout",
     "output_type": "stream",
     "text": [
      "DIP results\n",
      "Source domain  1 accuracy: 100.00%\n",
      "Source domain  2 accuracy: 100.00%\n",
      "Source domain  3 accuracy: 100.00%\n",
      "Source domain  4 accuracy: 99.00%\n",
      "Source domain  5 accuracy: 99.70%\n",
      "Source domain  6 accuracy: 90.90%\n",
      "Source domain  7 accuracy: 50.60%\n",
      "Source domain  8 accuracy: 36.10%\n",
      "Source domain  9 accuracy: 23.10%\n",
      "Source domain 10 accuracy: 10.10%\n",
      "Source domain 11 accuracy: 36.90%\n",
      "Target domain    accuracy: 9.80%\n"
     ]
    }
   ],
   "source": [
    "print(\"DIP results\")\n",
    "for i in range(M):\n",
    "    ypreds, acc, correct = alg.predict_dataloader(dataloaders[i])\n",
    "    print(f\"{'Source' if i<M-1 else 'Target'} domain {i+1 if i<M-1 else '':>2} accuracy: {acc*100:.2f}%\")"
   ]
  },
  {
   "cell_type": "markdown",
   "id": "78ef8536-b09b-4a3a-a552-551487d2a8f2",
   "metadata": {},
   "source": [
    "The accuracy of DIP is even less than random guess, as it incorrectly picks the label flipping feature."
   ]
  },
  {
   "cell_type": "markdown",
   "id": "559f7846-cf41-4772-8459-d7a80a29b59f",
   "metadata": {},
   "source": [
    "### JointDIP"
   ]
  },
  {
   "cell_type": "code",
   "execution_count": 8,
   "id": "89840c88-d235-49cc-832d-ef883c44a407",
   "metadata": {},
   "outputs": [
    {
     "name": "stderr",
     "output_type": "stream",
     "text": [
      "Epoch 9: 100%|██████████| 10/10 [00:01<00:00,  6.47it/s, epoch_loss=0.54299492]\n",
      "Epoch 19: 100%|██████████| 10/10 [00:01<00:00,  5.40it/s, epoch_loss=0.50208367]\n",
      "Epoch 29: 100%|██████████| 10/10 [00:01<00:00,  5.99it/s, epoch_loss=0.48868067]\n",
      "Epoch 39: 100%|██████████| 10/10 [00:01<00:00,  6.06it/s, epoch_loss=0.48273060]\n",
      "Epoch 49: 100%|██████████| 10/10 [00:01<00:00,  5.52it/s, epoch_loss=0.47849036]\n",
      "Epoch 9: 100%|██████████| 10/10 [00:00<00:00, 172.47it/s, epoch_loss=0.69390416]\n",
      "Epoch 19: 100%|██████████| 10/10 [00:00<00:00, 185.60it/s, epoch_loss=0.64479875]\n",
      "Epoch 29: 100%|██████████| 10/10 [00:00<00:00, 132.15it/s, epoch_loss=0.62938417]\n",
      "Epoch 39: 100%|██████████| 10/10 [00:00<00:00, 120.98it/s, epoch_loss=0.62331256]\n",
      "Epoch 49: 100%|██████████| 10/10 [00:00<00:00, 111.72it/s, epoch_loss=0.62047727]\n"
     ]
    }
   ],
   "source": [
    "model=mmodel.Linear(d, nb_classes).to(device)\n",
    "alg = method.CIP_JointCIPDIP(device=device, model=model, \n",
    "                             modelA=None,               # model for joint matching features. Default to copy of model\n",
    "                             pretrained_modelA=False,   # if False, train CIP on modelA first. Otherwise, skip the CIP trianing step.\n",
    "                             lamCIP_A=1.,               # lambda for CIP\n",
    "                             lamDIP=10.,                # lambda for jointDIP\n",
    "                             discrepType='MMD', \n",
    "                             nb_classes=2, loss_type='CrossEntropyLoss', \n",
    "                             optimizer='Adam', lr=1e-2)\n",
    "result = alg.fit(\n",
    "    dataloaders=dataloaders,    # all dataloaders are used in JointDIP\n",
    "    grouper=None, \n",
    "    srcIds=[0],                 # indices of source domains used for final joint matching\n",
    "    tarId=-1, \n",
    "    epochs=50, \n",
    "    verbose_every=10\n",
    ")"
   ]
  },
  {
   "cell_type": "code",
   "execution_count": 9,
   "id": "8cf525eb-b08a-4e24-a767-c2f6bad2dfc4",
   "metadata": {},
   "outputs": [
    {
     "name": "stdout",
     "output_type": "stream",
     "text": [
      "JointDIP results\n",
      "Source domain  1 accuracy: 85.50%\n",
      "Source domain  2 accuracy: 81.10%\n",
      "Source domain  3 accuracy: 86.60%\n",
      "Source domain  4 accuracy: 84.30%\n",
      "Source domain  5 accuracy: 82.90%\n",
      "Source domain  6 accuracy: 80.70%\n",
      "Source domain  7 accuracy: 73.60%\n",
      "Source domain  8 accuracy: 81.40%\n",
      "Source domain  9 accuracy: 82.80%\n",
      "Source domain 10 accuracy: 82.90%\n",
      "Source domain 11 accuracy: 80.90%\n",
      "Target domain    accuracy: 84.10%\n"
     ]
    }
   ],
   "source": [
    "print(\"JointDIP results\")\n",
    "for i in range(M):\n",
    "    ypreds, acc, correct = alg.predict_dataloader(dataloaders[i])\n",
    "    print(f\"{'Source' if i<M-1 else 'Target'} domain {i+1 if i<M-1 else '':>2} accuracy: {acc*100:.2f}%\")"
   ]
  },
  {
   "cell_type": "markdown",
   "id": "c451e43b-2fbd-4b01-bc88-3e33e957d424",
   "metadata": {},
   "source": [
    "JointDIP solves the problem of DIP by jointly matching DIP with CIP features. It has an accuracy better than CIP."
   ]
  }
 ],
 "metadata": {
  "kernelspec": {
   "display_name": "Python 3 (ipykernel)",
   "language": "python",
   "name": "python3"
  },
  "language_info": {
   "codemirror_mode": {
    "name": "ipython",
    "version": 3
   },
   "file_extension": ".py",
   "mimetype": "text/x-python",
   "name": "python",
   "nbconvert_exporter": "python",
   "pygments_lexer": "ipython3",
   "version": "3.7.6"
  }
 },
 "nbformat": 4,
 "nbformat_minor": 5
}
